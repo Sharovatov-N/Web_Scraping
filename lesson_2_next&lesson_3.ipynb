{
 "cells": [
  {
   "cell_type": "markdown",
   "metadata": {},
   "source": [
    "### Урок 2. Парсинг HTML. BeautifulSoup, MongoDB (продолжение)"
   ]
  },
  {
   "cell_type": "code",
   "execution_count": 1,
   "metadata": {},
   "outputs": [],
   "source": [
    "from bs4 import BeautifulSoup as bs\n",
    "import requests\n",
    "import re\n",
    "import pandas as pd"
   ]
  },
  {
   "cell_type": "code",
   "execution_count": 2,
   "metadata": {},
   "outputs": [],
   "source": [
    "def _parser_superjob(vacancy):\n",
    "    vacancy_date = []\n",
    "\n",
    "    params = {\n",
    "        'keywords': vacancy,\n",
    "        'profession_only': '1',\n",
    "        'geo[c][1]': '1',\n",
    "        'page': ''\n",
    "    }\n",
    "\n",
    "    headers = {\n",
    "        'User-Agent': 'Mozilla/5.0 (X11; Linux x86_64; rv:69.0) Gecko/20100101 Firefox/69.0'\n",
    "    }\n",
    "\n",
    "    link = 'https://www.superjob.ru/vacancy/search/'\n",
    "\n",
    "    req = requests.get(link, params=params, headers=headers)\n",
    "    soup = bs(req.text, 'html.parser')\n",
    "\n",
    "    page_block = soup.find('div', {'class': '_3zucV L1p51 undefined _1Fty7 _2tD21 _3SGgo'})\n",
    "\n",
    "    if not page_block:\n",
    "        last_page = 1\n",
    "    else:\n",
    "        last_page = int(page_block.find_all('a')[-2].getText())\n",
    "\n",
    "    for page in range(0, last_page):\n",
    "        params['page'] = page\n",
    "        req = requests.get(link, params=params, headers=headers)\n",
    "\n",
    "        parsed_html = bs(req.text, 'html.parser')\n",
    "        vacancy_items = parsed_html.find_all('div', {'class': 'Fo44F QiY08 LvoDO'})\n",
    "\n",
    "        for j_vacancy in vacancy_items:\n",
    "            vacancy_date.append(_parser_item_superjob(j_vacancy))\n",
    "\n",
    "    return vacancy_date\n"
   ]
  },
  {
   "cell_type": "code",
   "execution_count": 3,
   "metadata": {},
   "outputs": [],
   "source": [
    "def _parser_item_superjob(j_vacancy):\n",
    "    vacancy_data = {}\n",
    "    vacancy_name = j_vacancy.find('a').getText()\n",
    "    vacancy_link = 'https://russia.superjob.ru' + j_vacancy.find('a').get('href')\n",
    "    vacancy_city = j_vacancy.find('span',\n",
    "                                {'class': '_3mfro f-test-text-company-item-location _9fXTd _2JVkc _2VHxz'}).getText()\n",
    "    vacancy_city = re.split(r'\\•', vacancy_city)\n",
    "    vacancy_city = vacancy_city[-1]\n",
    "    \n",
    "    try:\n",
    "        vacancy_employer = j_vacancy.find('span', {\n",
    "            'class': '_3mfro _3Fsn4 f-test-text-vacancy-item-company-name _9fXTd _2JVkc _2VHxz _15msI'}).getText()\n",
    "    except:\n",
    "        vacancy_employer = 'Нет названия фирмы'\n",
    "\n",
    "    try:\n",
    "        vacancy_salary = j_vacancy.find('span', {'class': '_3mfro _2Wp8I PlM3e _2JVkc _2VHxz'}).getText()\n",
    "\n",
    "        vacancy_salary = re.split(r'\\s|-', vacancy_salary)\n",
    "\n",
    "        if vacancy_salary[0] == 'до':\n",
    "            salary_min = None\n",
    "            salary_max = int((vacancy_salary[1]) + (vacancy_salary[2]))\n",
    "            salary_currency = vacancy_salary[-1]\n",
    "\n",
    "        elif vacancy_salary[0] == 'от':\n",
    "            salary_min = int((vacancy_salary[1]) + (vacancy_salary[2]))\n",
    "            salary_max = None\n",
    "            salary_currency = vacancy_salary[-1]\n",
    "\n",
    "        elif vacancy_salary[0] == 'По':\n",
    "            salary_min = None\n",
    "            salary_max = None\n",
    "            salary_currency = None\n",
    "\n",
    "        else:\n",
    "            salary_min = int((vacancy_salary[0]) + (vacancy_salary[1]))\n",
    "            salary_max = int((vacancy_salary[3]) + (vacancy_salary[4]))\n",
    "            salary_currency = vacancy_salary[-1]\n",
    "\n",
    "\n",
    "    except:\n",
    "        salary_min = None\n",
    "        salary_max = None\n",
    "        salary_currency = None\n",
    "\n",
    "    vacancy_data['name'] = vacancy_name\n",
    "    vacancy_data['employer'] = vacancy_employer\n",
    "    vacancy_data['city'] = vacancy_city\n",
    "    vacancy_data['salary_min'] = salary_min\n",
    "    vacancy_data['salary_max'] = salary_max\n",
    "    vacancy_data['salary_currency'] = salary_currency\n",
    "    vacancy_data['link'] = vacancy_link\n",
    "    vacancy_data['site'] = 'superjob.ru'\n",
    "\n",
    "    return vacancy_data"
   ]
  },
  {
   "cell_type": "code",
   "execution_count": 4,
   "metadata": {
    "scrolled": false
   },
   "outputs": [
    {
     "name": "stdout",
     "output_type": "stream",
     "text": [
      "Вы ищите: python\n",
      "Количество вакансий: 20\n"
     ]
    },
    {
     "data": {
      "text/html": [
       "<div>\n",
       "<style scoped>\n",
       "    .dataframe tbody tr th:only-of-type {\n",
       "        vertical-align: middle;\n",
       "    }\n",
       "\n",
       "    .dataframe tbody tr th {\n",
       "        vertical-align: top;\n",
       "    }\n",
       "\n",
       "    .dataframe thead th {\n",
       "        text-align: right;\n",
       "    }\n",
       "</style>\n",
       "<table border=\"1\" class=\"dataframe\">\n",
       "  <thead>\n",
       "    <tr style=\"text-align: right;\">\n",
       "      <th></th>\n",
       "      <th>name</th>\n",
       "      <th>employer</th>\n",
       "      <th>city</th>\n",
       "      <th>salary_min</th>\n",
       "      <th>salary_max</th>\n",
       "      <th>salary_currency</th>\n",
       "      <th>link</th>\n",
       "      <th>site</th>\n",
       "    </tr>\n",
       "  </thead>\n",
       "  <tbody>\n",
       "    <tr>\n",
       "      <th>0</th>\n",
       "      <td>Python developer</td>\n",
       "      <td>Синема Стар</td>\n",
       "      <td>Москва, Выставочная</td>\n",
       "      <td>NaN</td>\n",
       "      <td>NaN</td>\n",
       "      <td>None</td>\n",
       "      <td>https://russia.superjob.ru/vakansii/python-dev...</td>\n",
       "      <td>superjob.ru</td>\n",
       "    </tr>\n",
       "    <tr>\n",
       "      <th>1</th>\n",
       "      <td>Web-программист PHP, Python, ASP.NET Core MVC 2.x</td>\n",
       "      <td>Вычислительный центр</td>\n",
       "      <td>Нижний Новгород, Горьковская</td>\n",
       "      <td>NaN</td>\n",
       "      <td>NaN</td>\n",
       "      <td>None</td>\n",
       "      <td>https://russia.superjob.ru/vakansii/web-progra...</td>\n",
       "      <td>superjob.ru</td>\n",
       "    </tr>\n",
       "    <tr>\n",
       "      <th>2</th>\n",
       "      <td>Senior Python Developer</td>\n",
       "      <td>05.RU</td>\n",
       "      <td>Махачкала</td>\n",
       "      <td>NaN</td>\n",
       "      <td>NaN</td>\n",
       "      <td>None</td>\n",
       "      <td>https://russia.superjob.ru/vakansii/senior-pyt...</td>\n",
       "      <td>superjob.ru</td>\n",
       "    </tr>\n",
       "    <tr>\n",
       "      <th>3</th>\n",
       "      <td>Python / Full stack-разработчик</td>\n",
       "      <td>Частный рекрутер Бельтюкова Мария Александровна</td>\n",
       "      <td>Москва</td>\n",
       "      <td>150000.0</td>\n",
       "      <td>180000.0</td>\n",
       "      <td>руб.</td>\n",
       "      <td>https://russia.superjob.ru/vakansii/python-343...</td>\n",
       "      <td>superjob.ru</td>\n",
       "    </tr>\n",
       "    <tr>\n",
       "      <th>4</th>\n",
       "      <td>Разработчик Python Middle\\Senior</td>\n",
       "      <td>Фидес</td>\n",
       "      <td>Санкт-Петербург</td>\n",
       "      <td>NaN</td>\n",
       "      <td>NaN</td>\n",
       "      <td>None</td>\n",
       "      <td>https://russia.superjob.ru/vakansii/razrabotch...</td>\n",
       "      <td>superjob.ru</td>\n",
       "    </tr>\n",
       "    <tr>\n",
       "      <th>5</th>\n",
       "      <td>Разработчик Python</td>\n",
       "      <td>БСКБ \"Нефтехимавтоматика\"</td>\n",
       "      <td>Уфа</td>\n",
       "      <td>NaN</td>\n",
       "      <td>NaN</td>\n",
       "      <td>None</td>\n",
       "      <td>https://russia.superjob.ru/vakansii/razrabotch...</td>\n",
       "      <td>superjob.ru</td>\n",
       "    </tr>\n",
       "    <tr>\n",
       "      <th>6</th>\n",
       "      <td>Full-stack-веб-программист python/javascript</td>\n",
       "      <td>ФГБУ Центр стратегического планирования МФБА Р...</td>\n",
       "      <td>Москва</td>\n",
       "      <td>NaN</td>\n",
       "      <td>NaN</td>\n",
       "      <td>None</td>\n",
       "      <td>https://russia.superjob.ru/vakansii/full-stack...</td>\n",
       "      <td>superjob.ru</td>\n",
       "    </tr>\n",
       "    <tr>\n",
       "      <th>7</th>\n",
       "      <td>Программист Python</td>\n",
       "      <td>КИБЕРБОРЕЯ</td>\n",
       "      <td>Москва</td>\n",
       "      <td>120000.0</td>\n",
       "      <td>150000.0</td>\n",
       "      <td>руб.</td>\n",
       "      <td>https://russia.superjob.ru/vakansii/programmis...</td>\n",
       "      <td>superjob.ru</td>\n",
       "    </tr>\n",
       "    <tr>\n",
       "      <th>8</th>\n",
       "      <td>Senior Python Developer</td>\n",
       "      <td>РА \"Подбор персонала @ HR аудит\"</td>\n",
       "      <td>Москва</td>\n",
       "      <td>NaN</td>\n",
       "      <td>NaN</td>\n",
       "      <td>None</td>\n",
       "      <td>https://russia.superjob.ru/vakansii/senior-pyt...</td>\n",
       "      <td>superjob.ru</td>\n",
       "    </tr>\n",
       "    <tr>\n",
       "      <th>9</th>\n",
       "      <td>Ведущий разработчик Python</td>\n",
       "      <td>БСКБ \"Нефтехимавтоматика\"</td>\n",
       "      <td>Уфа</td>\n",
       "      <td>NaN</td>\n",
       "      <td>NaN</td>\n",
       "      <td>None</td>\n",
       "      <td>https://russia.superjob.ru/vakansii/veduschij-...</td>\n",
       "      <td>superjob.ru</td>\n",
       "    </tr>\n",
       "    <tr>\n",
       "      <th>10</th>\n",
       "      <td>Senior Python Developer</td>\n",
       "      <td>РА \"Подбор персонала @ HR аудит\"</td>\n",
       "      <td>Екатеринбург</td>\n",
       "      <td>NaN</td>\n",
       "      <td>NaN</td>\n",
       "      <td>None</td>\n",
       "      <td>https://russia.superjob.ru/vakansii/senior-pyt...</td>\n",
       "      <td>superjob.ru</td>\n",
       "    </tr>\n",
       "    <tr>\n",
       "      <th>11</th>\n",
       "      <td>Senior Python Developer</td>\n",
       "      <td>РА \"Подбор персонала @ HR аудит\"</td>\n",
       "      <td>Санкт-Петербург</td>\n",
       "      <td>NaN</td>\n",
       "      <td>NaN</td>\n",
       "      <td>None</td>\n",
       "      <td>https://russia.superjob.ru/vakansii/senior-pyt...</td>\n",
       "      <td>superjob.ru</td>\n",
       "    </tr>\n",
       "    <tr>\n",
       "      <th>12</th>\n",
       "      <td>Senior Python Developer</td>\n",
       "      <td>РА \"Подбор персонала @ HR аудит\"</td>\n",
       "      <td>Новосибирск</td>\n",
       "      <td>NaN</td>\n",
       "      <td>NaN</td>\n",
       "      <td>None</td>\n",
       "      <td>https://russia.superjob.ru/vakansii/senior-pyt...</td>\n",
       "      <td>superjob.ru</td>\n",
       "    </tr>\n",
       "    <tr>\n",
       "      <th>13</th>\n",
       "      <td>Senior Python Developer</td>\n",
       "      <td>РА \"Подбор персонала @ HR аудит\"</td>\n",
       "      <td>Казань</td>\n",
       "      <td>NaN</td>\n",
       "      <td>NaN</td>\n",
       "      <td>None</td>\n",
       "      <td>https://russia.superjob.ru/vakansii/senior-pyt...</td>\n",
       "      <td>superjob.ru</td>\n",
       "    </tr>\n",
       "  </tbody>\n",
       "</table>\n",
       "</div>"
      ],
      "text/plain": [
       "                                                 name  \\\n",
       "0                                    Python developer   \n",
       "1   Web-программист PHP, Python, ASP.NET Core MVC 2.x   \n",
       "2                             Senior Python Developer   \n",
       "3                     Python / Full stack-разработчик   \n",
       "4                    Разработчик Python Middle\\Senior   \n",
       "5                                  Разработчик Python   \n",
       "6        Full-stack-веб-программист python/javascript   \n",
       "7                                  Программист Python   \n",
       "8                             Senior Python Developer   \n",
       "9                          Ведущий разработчик Python   \n",
       "10                            Senior Python Developer   \n",
       "11                            Senior Python Developer   \n",
       "12                            Senior Python Developer   \n",
       "13                            Senior Python Developer   \n",
       "\n",
       "                                             employer  \\\n",
       "0                                         Синема Стар   \n",
       "1                                Вычислительный центр   \n",
       "2                                               05.RU   \n",
       "3     Частный рекрутер Бельтюкова Мария Александровна   \n",
       "4                                               Фидес   \n",
       "5                           БСКБ \"Нефтехимавтоматика\"   \n",
       "6   ФГБУ Центр стратегического планирования МФБА Р...   \n",
       "7                                          КИБЕРБОРЕЯ   \n",
       "8                    РА \"Подбор персонала @ HR аудит\"   \n",
       "9                           БСКБ \"Нефтехимавтоматика\"   \n",
       "10                   РА \"Подбор персонала @ HR аудит\"   \n",
       "11                   РА \"Подбор персонала @ HR аудит\"   \n",
       "12                   РА \"Подбор персонала @ HR аудит\"   \n",
       "13                   РА \"Подбор персонала @ HR аудит\"   \n",
       "\n",
       "                             city  salary_min  salary_max salary_currency  \\\n",
       "0             Москва, Выставочная         NaN         NaN            None   \n",
       "1    Нижний Новгород, Горьковская         NaN         NaN            None   \n",
       "2                       Махачкала         NaN         NaN            None   \n",
       "3                          Москва    150000.0    180000.0            руб.   \n",
       "4                 Санкт-Петербург         NaN         NaN            None   \n",
       "5                             Уфа         NaN         NaN            None   \n",
       "6                          Москва         NaN         NaN            None   \n",
       "7                          Москва    120000.0    150000.0            руб.   \n",
       "8                          Москва         NaN         NaN            None   \n",
       "9                             Уфа         NaN         NaN            None   \n",
       "10                   Екатеринбург         NaN         NaN            None   \n",
       "11                Санкт-Петербург         NaN         NaN            None   \n",
       "12                    Новосибирск         NaN         NaN            None   \n",
       "13                         Казань         NaN         NaN            None   \n",
       "\n",
       "                                                 link         site  \n",
       "0   https://russia.superjob.ru/vakansii/python-dev...  superjob.ru  \n",
       "1   https://russia.superjob.ru/vakansii/web-progra...  superjob.ru  \n",
       "2   https://russia.superjob.ru/vakansii/senior-pyt...  superjob.ru  \n",
       "3   https://russia.superjob.ru/vakansii/python-343...  superjob.ru  \n",
       "4   https://russia.superjob.ru/vakansii/razrabotch...  superjob.ru  \n",
       "5   https://russia.superjob.ru/vakansii/razrabotch...  superjob.ru  \n",
       "6   https://russia.superjob.ru/vakansii/full-stack...  superjob.ru  \n",
       "7   https://russia.superjob.ru/vakansii/programmis...  superjob.ru  \n",
       "8   https://russia.superjob.ru/vakansii/senior-pyt...  superjob.ru  \n",
       "9   https://russia.superjob.ru/vakansii/veduschij-...  superjob.ru  \n",
       "10  https://russia.superjob.ru/vakansii/senior-pyt...  superjob.ru  \n",
       "11  https://russia.superjob.ru/vakansii/senior-pyt...  superjob.ru  \n",
       "12  https://russia.superjob.ru/vakansii/senior-pyt...  superjob.ru  \n",
       "13  https://russia.superjob.ru/vakansii/senior-pyt...  superjob.ru  "
      ]
     },
     "execution_count": 4,
     "metadata": {},
     "output_type": "execute_result"
    }
   ],
   "source": [
    "a = _parser_superjob(input('Вы ищите: '))\n",
    "df = pd.DataFrame(a)\n",
    "b = int(input('Количество вакансий: '))\n",
    "df.head(b)"
   ]
  },
  {
   "cell_type": "markdown",
   "metadata": {},
   "source": [
    "### Урок 3. Системы управления базами данных MongoDB и SQLite в Python"
   ]
  },
  {
   "cell_type": "markdown",
   "metadata": {},
   "source": [
    "#### 1. Развернуть у себя на компьютере/виртуальной машине/хостинге MongoDB и реализовать функцию, записывающую собранные вакансии в созданную БД"
   ]
  },
  {
   "cell_type": "code",
   "execution_count": 5,
   "metadata": {},
   "outputs": [],
   "source": [
    "from pymongo import MongoClient\n",
    "from pprint import pprint"
   ]
  },
  {
   "cell_type": "markdown",
   "metadata": {},
   "source": [
    "Создаем базу данных в MongoDB и загружаем в нее данные"
   ]
  },
  {
   "cell_type": "code",
   "execution_count": 6,
   "metadata": {
    "scrolled": true
   },
   "outputs": [
    {
     "data": {
      "text/plain": [
       "<pymongo.results.InsertManyResult at 0x7f9bc538ea80>"
      ]
     },
     "execution_count": 6,
     "metadata": {},
     "output_type": "execute_result"
    }
   ],
   "source": [
    "client = MongoClient('127.0.0.1',27017)\n",
    "db = client['job_openings']\n",
    "superjob = db.superjob\n",
    "\n",
    "df_dict = df.to_dict('records')\n",
    "\n",
    "superjob.insert_many(df_dict)"
   ]
  },
  {
   "cell_type": "markdown",
   "metadata": {},
   "source": [
    "#### 2. Написать функцию, которая производит поиск и выводит на экран вакансии с заработной платой больше введенной суммы. Поиск по двум полям (мин и макс зарплату)"
   ]
  },
  {
   "cell_type": "code",
   "execution_count": 7,
   "metadata": {},
   "outputs": [],
   "source": [
    "def print_salary(salary):\n",
    "    objects = superjob.find({'$or': [{'salary_min': {'$gt': salary}}, {'salary_max': {'$gt': salary}}]}, {'_id': 0})\n",
    "    for obj in objects:\n",
    "        pprint(obj)"
   ]
  },
  {
   "cell_type": "code",
   "execution_count": 8,
   "metadata": {},
   "outputs": [
    {
     "name": "stdout",
     "output_type": "stream",
     "text": [
      "Уровень зарплаты от: 120000\n",
      "{'city': ' Москва',\n",
      " 'employer': 'Частный рекрутер Бельтюкова Мария Александровна',\n",
      " 'link': 'https://russia.superjob.ru/vakansii/python-34337426.html',\n",
      " 'name': 'Python / Full stack-разработчик',\n",
      " 'salary_currency': 'руб.',\n",
      " 'salary_max': 180000.0,\n",
      " 'salary_min': 150000.0,\n",
      " 'site': 'superjob.ru'}\n",
      "{'city': ' Москва',\n",
      " 'employer': 'КИБЕРБОРЕЯ',\n",
      " 'link': 'https://russia.superjob.ru/vakansii/programmist-python-34345798.html',\n",
      " 'name': 'Программист Python',\n",
      " 'salary_currency': 'руб.',\n",
      " 'salary_max': 150000.0,\n",
      " 'salary_min': 120000.0,\n",
      " 'site': 'superjob.ru'}\n"
     ]
    }
   ],
   "source": [
    "salary = float(input('Уровень зарплаты от: '))\n",
    "print_salary(salary)"
   ]
  },
  {
   "cell_type": "markdown",
   "metadata": {},
   "source": [
    "#### 3. Написать функцию, которая будет добавлять в вашу базу данных только новые вакансии с сайта"
   ]
  },
  {
   "cell_type": "code",
   "execution_count": 9,
   "metadata": {},
   "outputs": [],
   "source": [
    "# for i in df_dict:\n",
    "#     superjob.updata_many({'link':i['link']}, {'$set':i}, upsert=True)"
   ]
  },
  {
   "cell_type": "markdown",
   "metadata": {},
   "source": [
    "Верхний вариант у меня не работает, выдает ошибку:\"TypeError: 'Collection' object is not callable. If you meant to call the 'updata_many' method on a 'Collection' object it is failing because no such method exists.\". Я думаю, что у меня как-то коряво установилась MongoDB."
   ]
  },
  {
   "cell_type": "code",
   "execution_count": 10,
   "metadata": {},
   "outputs": [],
   "source": [
    "m = 0\n",
    "n = 0\n",
    "for i in df_dict:\n",
    "\n",
    "    if superjob.count_documents({'link': i['link']}) > 0:\n",
    "        m += 1\n",
    "    else:\n",
    "        superjob.insert_one(i)\n",
    "        n += 1"
   ]
  },
  {
   "cell_type": "code",
   "execution_count": 11,
   "metadata": {},
   "outputs": [
    {
     "data": {
      "text/plain": [
       "<pymongo.results.DeleteResult at 0x7f9bc53a4e40>"
      ]
     },
     "execution_count": 11,
     "metadata": {},
     "output_type": "execute_result"
    }
   ],
   "source": [
    "superjob.delete_many({})"
   ]
  },
  {
   "cell_type": "code",
   "execution_count": null,
   "metadata": {},
   "outputs": [],
   "source": []
  }
 ],
 "metadata": {
  "kernelspec": {
   "display_name": "Python 3",
   "language": "python",
   "name": "python3"
  },
  "language_info": {
   "codemirror_mode": {
    "name": "ipython",
    "version": 3
   },
   "file_extension": ".py",
   "mimetype": "text/x-python",
   "name": "python",
   "nbconvert_exporter": "python",
   "pygments_lexer": "ipython3",
   "version": "3.8.3"
  }
 },
 "nbformat": 4,
 "nbformat_minor": 4
}
